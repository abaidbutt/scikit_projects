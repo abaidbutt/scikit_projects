{
 "cells": [
  {
   "cell_type": "code",
   "execution_count": null,
   "metadata": {},
   "outputs": [],
   "source": []
  },
  {
   "cell_type": "markdown",
   "metadata": {},
   "source": [
    "## Performancer metric or Losss function \n",
    "### Mean Square Error | Absolute Error"
   ]
  },
  {
   "cell_type": "code",
   "execution_count": 9,
   "metadata": {},
   "outputs": [
    {
     "name": "stdout",
     "output_type": "stream",
     "text": [
      "Mean Squared Error: 0.6485996190543516\n",
      "R2 Score: 0.4811084097989491\n",
      "Mean  Absolute Error: 0.2797891748591026\n",
      "Mean  Absolute Error: 0.6639235737596481\n",
      "Root Mean  Absolute Error: 0.8148150549417015\n"
     ]
    }
   ],
   "source": [
    "import pandas as pd\n",
    "import seaborn as sns\n",
    "import numpy as np\n",
    "from sklearn.linear_model import LinearRegression\n",
    "\n",
    "#load the data\n",
    "df=sns.load_dataset('tips')\n",
    "\n",
    "df.head()\n",
    "\n",
    "X= df[['total_bill', 'size']]\n",
    "y=df['tip']\n",
    "\n",
    "# train test split\n",
    "from sklearn.model_selection import train_test_split\n",
    "X_train, X_test, y_train, y_test=train_test_split(X, y, test_size=0.2, train_size=0.8, random_state=42)\n",
    "\n",
    "#Call the Model \n",
    "model=LinearRegression()\n",
    "model.fit(X_train, y_train);\n",
    "\n",
    "# metrics to evalute the model\n",
    "from sklearn.metrics import mean_squared_error, mean_absolute_error, r2_score, mean_absolute_percentage_error\n",
    "\n",
    "\n",
    "y_pred=model.predict(X_test)\n",
    "\n",
    "print(f\"Mean Squared Error: {mean_squared_error(y_test, y_pred)}\")\n",
    "print(f\"R2 Score: {r2_score(y_test, y_pred)}\")\n",
    "print(f\"Mean  Absolute Error: {mean_absolute_percentage_error(y_test, y_pred)}\")\n",
    "print(f\"Mean  Absolute Error: {mean_absolute_error(y_test, y_pred)}\")\n",
    "# Root Mean Squrared value\n",
    "print(f\"Root Mean  Absolute Error: {np.sqrt(mean_absolute_error(y_test, y_pred))}\")\n",
    "\n"
   ]
  },
  {
   "cell_type": "markdown",
   "metadata": {},
   "source": []
  }
 ],
 "metadata": {
  "kernelspec": {
   "display_name": "venv",
   "language": "python",
   "name": "python3"
  },
  "language_info": {
   "codemirror_mode": {
    "name": "ipython",
    "version": 3
   },
   "file_extension": ".py",
   "mimetype": "text/x-python",
   "name": "python",
   "nbconvert_exporter": "python",
   "pygments_lexer": "ipython3",
   "version": "3.13.2"
  }
 },
 "nbformat": 4,
 "nbformat_minor": 2
}
